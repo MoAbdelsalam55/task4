{
 "cells": [
  {
   "cell_type": "code",
   "execution_count": 8,
   "id": "6439e189",
   "metadata": {},
   "outputs": [
    {
     "name": "stdout",
     "output_type": "stream",
     "text": [
      "[('age', 21), ('country', 'Egypt'), ('faculty', 'Cs'), ('grade', 'A+'), ('name', 'Mo'), ('university', 'Acu')]\n"
     ]
    }
   ],
   "source": [
    "#sorting Dictionary by keys\n",
    "student ={'name':'Mo','age':21,'country':'Egypt','faculty':'Cs'}\n",
    "student['grade']= \"A+\"\n",
    "student.update({\"university\":\"Acu\"})\n",
    "Newstudent = student.items()\n",
    "sortDic = sorted(Newstudent)\n",
    "print(sortDic)"
   ]
  },
  {
   "cell_type": "code",
   "execution_count": 2,
   "id": "8aedb618",
   "metadata": {},
   "outputs": [
    {
     "name": "stdout",
     "output_type": "stream",
     "text": [
      "Counter({'orange': 6, 'watermelon': 5, 'apple': 4})\n"
     ]
    }
   ],
   "source": [
    "#implementation of multi set\n",
    "import collections \n",
    "multiSet = collections.Counter()\n",
    "regset = {'apple':3, 'orange':4, 'watermelon':5}\n",
    "multiSet.update(regset)\n",
    "new = {'apple': 1,'orange':2}\n",
    "multiSet.update(new)\n",
    "print(multiSet)"
   ]
  },
  {
   "cell_type": "code",
   "execution_count": 6,
   "id": "cad8b053",
   "metadata": {},
   "outputs": [
    {
     "data": {
      "text/plain": [
       "120"
      ]
     },
     "execution_count": 6,
     "metadata": {},
     "output_type": "execute_result"
    }
   ],
   "source": [
    "#library function\n",
    " def factorial(num):\n",
    "    if num < 0:\n",
    "        return 0\n",
    "    elif num == 0 or num ==1 :\n",
    "        return 1\n",
    "    else: \n",
    "        fact =1 \n",
    "        while (num > 1) :\n",
    "            fact *= num\n",
    "            num -=1\n",
    "        return fact"
   ]
  },
  {
   "cell_type": "code",
   "execution_count": 12,
   "id": "afe3c7b9",
   "metadata": {},
   "outputs": [],
   "source": [
    "#my own library\n",
    "import factorial as fac\n"
   ]
  },
  {
   "cell_type": "code",
   "execution_count": 13,
   "id": "65ec3cfa",
   "metadata": {},
   "outputs": [
    {
     "data": {
      "text/plain": [
       "120"
      ]
     },
     "execution_count": 13,
     "metadata": {},
     "output_type": "execute_result"
    }
   ],
   "source": [
    "fac.factorial(5)"
   ]
  },
  {
   "cell_type": "code",
   "execution_count": 2,
   "id": "af8d9aad",
   "metadata": {},
   "outputs": [],
   "source": [
    "from queue import LifoQueue as stack\n"
   ]
  },
  {
   "cell_type": "code",
   "execution_count": null,
   "id": "47f13a3d",
   "metadata": {},
   "outputs": [],
   "source": []
  },
  {
   "cell_type": "code",
   "execution_count": null,
   "id": "388b4ed1",
   "metadata": {},
   "outputs": [],
   "source": []
  },
  {
   "cell_type": "code",
   "execution_count": null,
   "id": "56d9db42",
   "metadata": {},
   "outputs": [],
   "source": []
  },
  {
   "cell_type": "code",
   "execution_count": null,
   "id": "6f2831e8",
   "metadata": {},
   "outputs": [],
   "source": []
  }
 ],
 "metadata": {
  "kernelspec": {
   "display_name": "Python 3 (ipykernel)",
   "language": "python",
   "name": "python3"
  },
  "language_info": {
   "codemirror_mode": {
    "name": "ipython",
    "version": 3
   },
   "file_extension": ".py",
   "mimetype": "text/x-python",
   "name": "python",
   "nbconvert_exporter": "python",
   "pygments_lexer": "ipython3",
   "version": "3.9.12"
  }
 },
 "nbformat": 4,
 "nbformat_minor": 5
}
